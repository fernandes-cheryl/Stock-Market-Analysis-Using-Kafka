{
 "cells": [
  {
   "cell_type": "code",
   "execution_count": 1,
   "id": "dc99c14f",
   "metadata": {},
   "outputs": [
    {
     "name": "stdout",
     "output_type": "stream",
     "text": [
      "Defaulting to user installation because normal site-packages is not writeable\n",
      "Collecting kafka-python\n",
      "  Downloading kafka_python-2.0.2-py2.py3-none-any.whl (246 kB)\n",
      "     ---------------------------------------- 0.0/246.5 kB ? eta -:--:--\n",
      "     ----------------- -------------------- 112.6/246.5 kB 3.3 MB/s eta 0:00:01\n",
      "     -------------------------------------  245.8/246.5 kB 3.0 MB/s eta 0:00:01\n",
      "     -------------------------------------- 246.5/246.5 kB 2.5 MB/s eta 0:00:00\n",
      "Installing collected packages: kafka-python\n",
      "Successfully installed kafka-python-2.0.2\n",
      "Note: you may need to restart the kernel to use updated packages.\n"
     ]
    }
   ],
   "source": [
    "pip install kafka-python"
   ]
  },
  {
   "cell_type": "code",
   "execution_count": 1,
   "id": "9d8e5627",
   "metadata": {},
   "outputs": [],
   "source": [
    "import pandas as pd\n",
    "from kafka import KafkaProducer\n",
    "from time import sleep\n",
    "from json import dumps\n",
    "import json"
   ]
  },
  {
   "cell_type": "code",
   "execution_count": 2,
   "id": "83dbac49",
   "metadata": {},
   "outputs": [],
   "source": [
    "producer = KafkaProducer(bootstrap_servers=['52.66.85.110:9092'],\n",
    "                        value_serializer=lambda x:\n",
    "    dumps(x).encode('utf-8'))"
   ]
  },
  {
   "cell_type": "code",
   "execution_count": 3,
   "id": "842e0c0c",
   "metadata": {},
   "outputs": [
    {
     "data": {
      "text/plain": [
       "<kafka.producer.future.FutureRecordMetadata at 0x19032d16250>"
      ]
     },
     "execution_count": 3,
     "metadata": {},
     "output_type": "execute_result"
    }
   ],
   "source": [
    "producer.send('demo_test', value={'hello' : 'cheryl'})"
   ]
  },
  {
   "cell_type": "code",
   "execution_count": 6,
   "id": "9dafeeb5",
   "metadata": {},
   "outputs": [],
   "source": [
    "df = pd.read_csv(\"INFY stocks data.csv\")"
   ]
  },
  {
   "cell_type": "code",
   "execution_count": 7,
   "id": "e950b4b3",
   "metadata": {},
   "outputs": [
    {
     "data": {
      "text/html": [
       "<div>\n",
       "<style scoped>\n",
       "    .dataframe tbody tr th:only-of-type {\n",
       "        vertical-align: middle;\n",
       "    }\n",
       "\n",
       "    .dataframe tbody tr th {\n",
       "        vertical-align: top;\n",
       "    }\n",
       "\n",
       "    .dataframe thead th {\n",
       "        text-align: right;\n",
       "    }\n",
       "</style>\n",
       "<table border=\"1\" class=\"dataframe\">\n",
       "  <thead>\n",
       "    <tr style=\"text-align: right;\">\n",
       "      <th></th>\n",
       "      <th>Date</th>\n",
       "      <th>Open</th>\n",
       "      <th>High</th>\n",
       "      <th>Low</th>\n",
       "      <th>Close</th>\n",
       "      <th>Adj Close</th>\n",
       "      <th>Volume</th>\n",
       "      <th>Day</th>\n",
       "      <th>Month</th>\n",
       "      <th>Quarter</th>\n",
       "      <th>Year</th>\n",
       "    </tr>\n",
       "  </thead>\n",
       "  <tbody>\n",
       "    <tr>\n",
       "      <th>0</th>\n",
       "      <td>21-Aug-18</td>\n",
       "      <td>695.000000</td>\n",
       "      <td>698.000000</td>\n",
       "      <td>686.875000</td>\n",
       "      <td>691.974976</td>\n",
       "      <td>598.451782</td>\n",
       "      <td>8361482</td>\n",
       "      <td>21</td>\n",
       "      <td>8</td>\n",
       "      <td>3</td>\n",
       "      <td>2018</td>\n",
       "    </tr>\n",
       "    <tr>\n",
       "      <th>1</th>\n",
       "      <td>23-Aug-18</td>\n",
       "      <td>696.500000</td>\n",
       "      <td>700.750000</td>\n",
       "      <td>692.674988</td>\n",
       "      <td>698.700012</td>\n",
       "      <td>604.267700</td>\n",
       "      <td>7717182</td>\n",
       "      <td>23</td>\n",
       "      <td>8</td>\n",
       "      <td>3</td>\n",
       "      <td>2018</td>\n",
       "    </tr>\n",
       "    <tr>\n",
       "      <th>2</th>\n",
       "      <td>24-Aug-18</td>\n",
       "      <td>698.250000</td>\n",
       "      <td>700.950012</td>\n",
       "      <td>688.049988</td>\n",
       "      <td>689.150024</td>\n",
       "      <td>596.008606</td>\n",
       "      <td>7053000</td>\n",
       "      <td>24</td>\n",
       "      <td>8</td>\n",
       "      <td>3</td>\n",
       "      <td>2018</td>\n",
       "    </tr>\n",
       "    <tr>\n",
       "      <th>3</th>\n",
       "      <td>27-Aug-18</td>\n",
       "      <td>691.500000</td>\n",
       "      <td>709.974976</td>\n",
       "      <td>690.700012</td>\n",
       "      <td>707.700012</td>\n",
       "      <td>612.051453</td>\n",
       "      <td>7012950</td>\n",
       "      <td>27</td>\n",
       "      <td>8</td>\n",
       "      <td>3</td>\n",
       "      <td>2018</td>\n",
       "    </tr>\n",
       "    <tr>\n",
       "      <th>4</th>\n",
       "      <td>28-Aug-18</td>\n",
       "      <td>708.599976</td>\n",
       "      <td>719.200012</td>\n",
       "      <td>705.750000</td>\n",
       "      <td>712.349976</td>\n",
       "      <td>616.072937</td>\n",
       "      <td>6496890</td>\n",
       "      <td>28</td>\n",
       "      <td>8</td>\n",
       "      <td>3</td>\n",
       "      <td>2018</td>\n",
       "    </tr>\n",
       "  </tbody>\n",
       "</table>\n",
       "</div>"
      ],
      "text/plain": [
       "        Date        Open        High         Low       Close   Adj Close  \\\n",
       "0  21-Aug-18  695.000000  698.000000  686.875000  691.974976  598.451782   \n",
       "1  23-Aug-18  696.500000  700.750000  692.674988  698.700012  604.267700   \n",
       "2  24-Aug-18  698.250000  700.950012  688.049988  689.150024  596.008606   \n",
       "3  27-Aug-18  691.500000  709.974976  690.700012  707.700012  612.051453   \n",
       "4  28-Aug-18  708.599976  719.200012  705.750000  712.349976  616.072937   \n",
       "\n",
       "    Volume  Day  Month  Quarter  Year  \n",
       "0  8361482   21      8        3  2018  \n",
       "1  7717182   23      8        3  2018  \n",
       "2  7053000   24      8        3  2018  \n",
       "3  7012950   27      8        3  2018  \n",
       "4  6496890   28      8        3  2018  "
      ]
     },
     "execution_count": 7,
     "metadata": {},
     "output_type": "execute_result"
    }
   ],
   "source": [
    "df.head()"
   ]
  },
  {
   "cell_type": "code",
   "execution_count": 9,
   "id": "71f8d55c",
   "metadata": {},
   "outputs": [
    {
     "data": {
      "text/plain": [
       "{'Date': '25-Jun-19',\n",
       " 'Open': 744.0,\n",
       " 'High': 750.900024,\n",
       " 'Low': 737.299988,\n",
       " 'Close': 748.099976,\n",
       " 'Adj Close': 666.921997,\n",
       " 'Volume': 3677911,\n",
       " 'Day': 25,\n",
       " 'Month': 6,\n",
       " 'Quarter': 2,\n",
       " 'Year': 2019}"
      ]
     },
     "execution_count": 9,
     "metadata": {},
     "output_type": "execute_result"
    }
   ],
   "source": [
    "# random row\n",
    "df.sample(1).to_dict(orient='records')[0]"
   ]
  },
  {
   "cell_type": "code",
   "execution_count": 15,
   "id": "bc681fff",
   "metadata": {},
   "outputs": [
    {
     "ename": "KeyboardInterrupt",
     "evalue": "",
     "output_type": "error",
     "traceback": [
      "\u001b[1;31m-------------------------------------------\u001b[0m",
      "\u001b[1;31mKeyboardInterrupt\u001b[0mTraceback (most recent call last)",
      "Cell \u001b[1;32mIn[15], line 4\u001b[0m\n\u001b[0;32m      2\u001b[0m dict_stock \u001b[38;5;241m=\u001b[39m df\u001b[38;5;241m.\u001b[39msample(\u001b[38;5;241m1\u001b[39m)\u001b[38;5;241m.\u001b[39mto_dict(orient\u001b[38;5;241m=\u001b[39m\u001b[38;5;124m'\u001b[39m\u001b[38;5;124mrecords\u001b[39m\u001b[38;5;124m'\u001b[39m)[\u001b[38;5;241m0\u001b[39m]\n\u001b[0;32m      3\u001b[0m producer\u001b[38;5;241m.\u001b[39msend(\u001b[38;5;124m'\u001b[39m\u001b[38;5;124mdemo_test\u001b[39m\u001b[38;5;124m'\u001b[39m, value\u001b[38;5;241m=\u001b[39mdict_stock)\n\u001b[1;32m----> 4\u001b[0m sleep(\u001b[38;5;241m1\u001b[39m)\n",
      "\u001b[1;31mKeyboardInterrupt\u001b[0m: "
     ]
    }
   ],
   "source": [
    "while True:\n",
    "    dict_stock = df.sample(1).to_dict(orient='records')[0]\n",
    "    producer.send('demo_test', value=dict_stock)\n",
    "    sleep(1)"
   ]
  },
  {
   "cell_type": "code",
   "execution_count": 12,
   "id": "f104ceb3",
   "metadata": {},
   "outputs": [],
   "source": [
    "producer.flush()"
   ]
  },
  {
   "cell_type": "code",
   "execution_count": null,
   "id": "59bf094e",
   "metadata": {},
   "outputs": [],
   "source": []
  }
 ],
 "metadata": {
  "kernelspec": {
   "display_name": "Python 3 (ipykernel)",
   "language": "python",
   "name": "python3"
  },
  "language_info": {
   "codemirror_mode": {
    "name": "ipython",
    "version": 3
   },
   "file_extension": ".py",
   "mimetype": "text/x-python",
   "name": "python",
   "nbconvert_exporter": "python",
   "pygments_lexer": "ipython3",
   "version": "3.11.2"
  }
 },
 "nbformat": 4,
 "nbformat_minor": 5
}
